{
 "cells": [
  {
   "cell_type": "code",
   "execution_count": 1,
   "metadata": {},
   "outputs": [
    {
     "name": "stdout",
     "output_type": "stream",
     "text": [
      "torch is required for this method. Please install it using `pip install torch`. For more information, check the requirements.\n",
      "nn is required for this method. Please install it using `pip install nn`. For more information, check the requirements.\n"
     ]
    }
   ],
   "source": [
    "import sys\n",
    "\n",
    "class ModuleMock:\n",
    "    def __init__(self, module_name, classes_and_functions, parent=None):\n",
    "        self.module_name = module_name\n",
    "        self.classes_and_functions = classes_and_functions\n",
    "        self.parent = parent\n",
    "        self._set_submodules()\n",
    "    \n",
    "    def _set_submodules(self):\n",
    "        if self.parent:\n",
    "            full_module_name = f\"{self.parent}.{self.module_name}\"\n",
    "        else:\n",
    "            full_module_name = self.module_name\n",
    "        \n",
    "        for item in self.classes_and_functions:\n",
    "            if item.startswith(full_module_name):\n",
    "                parts = item.split('.')\n",
    "                if len(parts) > (full_module_name.count('.') + 1):\n",
    "                    submodule_name = parts[full_module_name.count('.') + 1]\n",
    "                    if not hasattr(self, submodule_name):\n",
    "                        setattr(self, submodule_name, ModuleMock(submodule_name, self.classes_and_functions, full_module_name))\n",
    "    \n",
    "    def __getattr__(self, name):\n",
    "        full_name = f\"{self.module_name}.{name}\" if self.parent is None else f\"{self.parent}.{self.module_name}.{name}\"\n",
    "        \n",
    "        if full_name in self.classes_and_functions:\n",
    "            def mock_function(*args, **kwargs):\n",
    "                raise ImportError(\n",
    "                    f\"{self.module_name} is required for this method. \"\n",
    "                    f\"Please install it using `pip install {self.module_name}`. \"\n",
    "                    f\"For more information, check the requirements.\"\n",
    "                )\n",
    "            return mock_function\n",
    "        else:\n",
    "            raise AttributeError(f\"Module '{self.module_name}' has no attribute '{name}'\")\n",
    "\n",
    "    def __call__(self, *args, **kwargs):\n",
    "        raise ImportError(\n",
    "            f\"{self.module_name} is required for this method. \"\n",
    "            f\"Please install it using `pip install {self.module_name}`. \"\n",
    "            f\"For more information, check the requirements.\"\n",
    "        )\n",
    "\n",
    "def import_module_with_mock(module_name, classes_and_functions):\n",
    "    try:\n",
    "        return __import__(module_name)\n",
    "    except ImportError:\n",
    "        return ModuleMock(module_name, classes_and_functions)\n",
    "\n",
    "# 유저가 제공하는 모듈 이름과 클래스/함수 목록\n",
    "module_name = \"torch\"\n",
    "classes_and_functions = [\"torch.Tensor\", \"torch.nn.Module\"]\n",
    "\n",
    "# 모듈을 목킹하여 임포트\n",
    "mocked_module = import_module_with_mock(module_name, classes_and_functions)\n",
    "\n",
    "# mocked_module을 sys.modules에 추가하여 타입힌팅을 처리\n",
    "sys.modules[module_name] = mocked_module\n",
    "\n",
    "# 사용 예제\n",
    "try:\n",
    "    import torch\n",
    "    tensor = torch.Tensor()\n",
    "except ImportError as e:\n",
    "    print(e)\n",
    "\n",
    "try:\n",
    "    module = torch.nn.Module()\n",
    "except ImportError as e:\n",
    "    print(e)\n"
   ]
  },
  {
   "cell_type": "code",
   "execution_count": 2,
   "metadata": {},
   "outputs": [
    {
     "data": {
      "text/plain": [
       "['torch.Tensor', 'torch.nn.Module']"
      ]
     },
     "execution_count": 2,
     "metadata": {},
     "output_type": "execute_result"
    }
   ],
   "source": [
    "torch.classes_and_functions"
   ]
  },
  {
   "cell_type": "code",
   "execution_count": 3,
   "metadata": {},
   "outputs": [],
   "source": [
    "torch.parent"
   ]
  },
  {
   "cell_type": "code",
   "execution_count": 4,
   "metadata": {},
   "outputs": [],
   "source": [
    "\n",
    "class Module:\n",
    "    id = 'torch.nn.Module'\n",
    "    pass\n",
    "\n",
    "class nn:\n",
    "    id = 'torch.nn'\n",
    "    Module = Module()\n",
    "\n",
    "\n",
    "class Tensor:\n",
    "    id = 'torch.Tensor'\n",
    "    pass\n",
    "\n",
    "class torch:\n",
    "    id = 'torch'\n",
    "    Tensor = Tensor()\n",
    "    nn = nn()"
   ]
  },
  {
   "cell_type": "code",
   "execution_count": 5,
   "metadata": {},
   "outputs": [],
   "source": [
    "from typing import Dict, List"
   ]
  },
  {
   "cell_type": "code",
   "execution_count": 6,
   "metadata": {},
   "outputs": [],
   "source": [
    "class DynamicModule:\n",
    "    id:str\n",
    "    name:str"
   ]
  },
  {
   "cell_type": "code",
   "execution_count": null,
   "metadata": {},
   "outputs": [],
   "source": [
    "\n"
   ]
  },
  {
   "cell_type": "code",
   "execution_count": 7,
   "metadata": {},
   "outputs": [],
   "source": [
    "full_ids = [\"torch.nn.Module\", \"torch.Tensor\"]"
   ]
  },
  {
   "cell_type": "code",
   "execution_count": null,
   "metadata": {},
   "outputs": [],
   "source": []
  },
  {
   "cell_type": "code",
   "execution_count": null,
   "metadata": {},
   "outputs": [],
   "source": []
  },
  {
   "cell_type": "code",
   "execution_count": 20,
   "metadata": {},
   "outputs": [],
   "source": [
    "class DynamicModule:\n",
    "    def __init__(self, name: str, id: str):\n",
    "        self.name = name\n",
    "        self.id = id\n",
    "\n",
    "def create_class(class_name: str, attributes: Dict[str, str]) -> type:\n",
    "    return type(class_name, (DynamicModule,), attributes)\n",
    "\n",
    "def get_ids(full_path = \"torch.nn.Module\") -> List[str]:\n",
    "    ids = []\n",
    "    split = full_path.split('.')\n",
    "    for i in range(len(split)):\n",
    "        ids.append('.'.join(split[:i+1]))\n",
    "    return ids\n",
    "\n",
    "def create_modules(ids) -> Dict[str, DynamicModule]:\n",
    "    modules = {}\n",
    "\n",
    "    for id in ids:\n",
    "        if id not in modules.keys():\n",
    "            name = id.split('.')[-1]\n",
    "            attributes = {\n",
    "                'id': id,\n",
    "                'name': name,\n",
    "            }\n",
    "            modules[id] = create_class(id, attributes)\n",
    "    return modules\n",
    "\n",
    "def collect_children(id, modules:Dict[str, DynamicModule])->List[DynamicModule]:\n",
    "    children = []\n",
    "    for candidate_id, module in modules.items():\n",
    "        if candidate_id.startswith(id):\n",
    "            parent_level = id.count('.')\n",
    "            candidate_level = candidate_id.count('.')\n",
    "            if candidate_level - parent_level == 1:\n",
    "                children.append(module)\n",
    "    return children\n",
    "\n",
    "def set_children(parent, children:List[DynamicModule])->None:\n",
    "    for child in children:    \n",
    "        setattr(parent, child.name, child)\n",
    "\n",
    "def generate_all_ids(full_ids)->List[str]:\n",
    "    ids = []\n",
    "    for full_id in full_ids:\n",
    "        ids.extend(get_ids(full_id))\n",
    "    return ids\n",
    "\n",
    "\n",
    "def generate_module_complete(full_ids):\n",
    "    ids = generate_all_ids(full_ids)\n",
    "\n",
    "    modules = create_modules(ids)\n",
    "\n",
    "    for id, module in modules.items():\n",
    "        children = collect_children(id, modules)\n",
    "        set_children(module, children)\n",
    "\n",
    "    return modules\n",
    "\n",
    "full_ids = [\"torch.nn.Module\", \"torch.Tensor\"]\n",
    "\n",
    "modules = generate_module_complete(full_ids)\n",
    "\n",
    "torch = modules['torch']"
   ]
  },
  {
   "cell_type": "code",
   "execution_count": 21,
   "metadata": {},
   "outputs": [],
   "source": []
  },
  {
   "cell_type": "code",
   "execution_count": 22,
   "metadata": {},
   "outputs": [
    {
     "data": {
      "text/plain": [
       "(__main__.torch.nn.Module, __main__.torch.Tensor)"
      ]
     },
     "execution_count": 22,
     "metadata": {},
     "output_type": "execute_result"
    }
   ],
   "source": [
    "torch.nn.Module, torch.Tensor"
   ]
  },
  {
   "cell_type": "code",
   "execution_count": null,
   "metadata": {},
   "outputs": [],
   "source": [
    "def import_optional_module(module_name = 'torch'):\n",
    "    return modules[module_name]"
   ]
  },
  {
   "cell_type": "code",
   "execution_count": null,
   "metadata": {},
   "outputs": [],
   "source": [
    "try:\n",
    "    import torch\n",
    "except Exception as e:\n",
    "    print(e)"
   ]
  },
  {
   "cell_type": "code",
   "execution_count": null,
   "metadata": {},
   "outputs": [],
   "source": [
    "torch"
   ]
  },
  {
   "cell_type": "code",
   "execution_count": 14,
   "metadata": {},
   "outputs": [
    {
     "name": "stdout",
     "output_type": "stream",
     "text": [
      "torch\n",
      "torch.Tensor\n",
      "torch.nn.Module\n",
      "type object 'torch' has no attribute 'Module'\n"
     ]
    }
   ],
   "source": [
    "from typing import Dict, List\n",
    "\n",
    "class DynamicModule:\n",
    "    def __init__(self, name: str, id: str):\n",
    "        self.name = name\n",
    "        self.id = id\n",
    "\n",
    "def create_class(class_name: str, attributes: Dict[str, str]) -> type:\n",
    "    return type(class_name, (DynamicModule,), attributes)\n",
    "\n",
    "def get_ids(full_path: str) -> List[str]:\n",
    "    ids = []\n",
    "    split = full_path.split('.')\n",
    "    for i in range(len(split)):\n",
    "        ids.append('.'.join(split[:i+1]))\n",
    "    return ids\n",
    "\n",
    "def create_modules(ids: List[str]) -> Dict[str, DynamicModule]:\n",
    "    modules = {}\n",
    "\n",
    "    for id in ids:\n",
    "        if id not in modules:\n",
    "            name = id.split('.')[-1]\n",
    "            attributes = {\n",
    "                'id': id,\n",
    "                'name': name,\n",
    "            }\n",
    "            modules[id] = create_class(name, attributes)\n",
    "    return modules\n",
    "\n",
    "def collect_children(id: str, modules: Dict[str, DynamicModule]) -> List[DynamicModule]:\n",
    "    children = []\n",
    "    for candidate_id, module in modules.items():\n",
    "        if candidate_id.startswith(id):\n",
    "            parent_level = id.count('.')\n",
    "            candidate_level = candidate_id.count('.')\n",
    "            if candidate_level - parent_level == 1:\n",
    "                children.append(module)\n",
    "    return children\n",
    "\n",
    "def set_children(parent: DynamicModule, children: List[DynamicModule]) -> None:\n",
    "    for child in children:\n",
    "        setattr(parent, child.name, child)\n",
    "\n",
    "def generate_all_ids(full_ids: List[str]) -> List[str]:\n",
    "    ids = []\n",
    "    for full_id in full_ids:\n",
    "        ids.extend(get_ids(full_id))\n",
    "    return ids\n",
    "\n",
    "def generate_module_complete(full_ids: List[str]) -> Dict[str, DynamicModule]:\n",
    "    ids = generate_all_ids(full_ids)\n",
    "\n",
    "    modules = create_modules(ids)\n",
    "\n",
    "    for id, module in modules.items():\n",
    "        children = collect_children(id, modules)\n",
    "        set_children(module, children)\n",
    "\n",
    "    return modules\n",
    "\n",
    "# 예시 사용법\n",
    "full_ids = [\"torch.nn.Module\", \"torch.Tensor\"]\n",
    "modules = generate_module_complete(full_ids)\n",
    "\n",
    "torch = modules['torch']\n",
    "\n",
    "# 동작 확인\n",
    "print(torch.id)            # torch\n",
    "print(torch.Tensor.id)     # torch.Tensor\n",
    "print(torch.nn.Module.id)  # torch.nn.Module\n",
    "\n",
    "# 기획된 에러\n",
    "try:\n",
    "    print(torch.Module)\n",
    "except AttributeError as e:\n",
    "    print(e)\n"
   ]
  },
  {
   "cell_type": "code",
   "execution_count": 17,
   "metadata": {},
   "outputs": [
    {
     "data": {
      "text/plain": [
       "__main__.Module"
      ]
     },
     "execution_count": 17,
     "metadata": {},
     "output_type": "execute_result"
    }
   ],
   "source": [
    "torch.nn.Module"
   ]
  },
  {
   "cell_type": "code",
   "execution_count": 18,
   "metadata": {},
   "outputs": [],
   "source": [
    "from crimson.data_class import DataClassList"
   ]
  },
  {
   "cell_type": "code",
   "execution_count": 19,
   "metadata": {},
   "outputs": [
    {
     "data": {
      "text/plain": [
       "crimson.data_class.data_class_list.DataClassList"
      ]
     },
     "execution_count": 19,
     "metadata": {},
     "output_type": "execute_result"
    }
   ],
   "source": [
    "DataClassList"
   ]
  },
  {
   "cell_type": "code",
   "execution_count": null,
   "metadata": {},
   "outputs": [
    {
     "ename": "TypeError",
     "evalue": "'DynamicModule' object is not callable",
     "output_type": "error",
     "traceback": [
      "\u001b[0;31m---------------------------------------------------------------------------\u001b[0m",
      "\u001b[0;31mTypeError\u001b[0m                                 Traceback (most recent call last)",
      "Cell \u001b[0;32mIn[1], line 42\u001b[0m\n\u001b[1;32m     40\u001b[0m \u001b[38;5;28;01mtry\u001b[39;00m:\n\u001b[1;32m     41\u001b[0m     \u001b[38;5;28;01mimport\u001b[39;00m \u001b[38;5;21;01mtorch\u001b[39;00m\n\u001b[0;32m---> 42\u001b[0m     tensor \u001b[38;5;241m=\u001b[39m \u001b[43mtorch\u001b[49m\u001b[38;5;241;43m.\u001b[39;49m\u001b[43mTensor\u001b[49m\u001b[43m(\u001b[49m\u001b[43m)\u001b[49m\n\u001b[1;32m     43\u001b[0m     \u001b[38;5;28mprint\u001b[39m(tensor)  \u001b[38;5;66;03m# <__main__.DynamicModule object at ...>\u001b[39;00m\n\u001b[1;32m     45\u001b[0m     module \u001b[38;5;241m=\u001b[39m torch\u001b[38;5;241m.\u001b[39mnn\u001b[38;5;241m.\u001b[39mModule()\n",
      "\u001b[0;31mTypeError\u001b[0m: 'DynamicModule' object is not callable"
     ]
    }
   ],
   "source": [
    "import sys\n",
    "\n",
    "class Generator():\n",
    "    modules = {}\n",
    "\n",
    "    @classmethod\n",
    "    def create_module_structure(cls, module_name, children):\n",
    "        \n",
    "        \n",
    "        \n",
    "\n"
   ]
  },
  {
   "cell_type": "code",
   "execution_count": null,
   "metadata": {},
   "outputs": [],
   "source": [
    "import torch"
   ]
  },
  {
   "cell_type": "code",
   "execution_count": null,
   "metadata": {},
   "outputs": [
    {
     "data": {
      "text/plain": [
       "<__main__.DynamicModule at 0x7f7be816da50>"
      ]
     },
     "execution_count": 6,
     "metadata": {},
     "output_type": "execute_result"
    }
   ],
   "source": [
    "torch.nn"
   ]
  },
  {
   "cell_type": "code",
   "execution_count": null,
   "metadata": {},
   "outputs": [
    {
     "data": {
      "text/plain": [
       "<__main__.DynamicModule at 0x7f7be816d630>"
      ]
     },
     "execution_count": 7,
     "metadata": {},
     "output_type": "execute_result"
    }
   ],
   "source": [
    "torch.Tensor"
   ]
  }
 ],
 "metadata": {
  "kernelspec": {
   "display_name": "auto-pydantic",
   "language": "python",
   "name": "python3"
  },
  "language_info": {
   "codemirror_mode": {
    "name": "ipython",
    "version": 3
   },
   "file_extension": ".py",
   "mimetype": "text/x-python",
   "name": "python",
   "nbconvert_exporter": "python",
   "pygments_lexer": "ipython3",
   "version": "3.10.14"
  }
 },
 "nbformat": 4,
 "nbformat_minor": 2
}
